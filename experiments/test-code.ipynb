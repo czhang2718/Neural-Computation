{
 "cells": [
  {
   "cell_type": "code",
   "execution_count": 61,
   "metadata": {},
   "outputs": [
    {
     "name": "stdout",
     "output_type": "stream",
     "text": [
      "The autoreload extension is already loaded. To reload it, use:\n",
      "  %reload_ext autoreload\n"
     ]
    }
   ],
   "source": [
    "%load_ext autoreload\n",
    "%autoreload 2"
   ]
  },
  {
   "cell_type": "code",
   "execution_count": 62,
   "metadata": {},
   "outputs": [
    {
     "name": "stdout",
     "output_type": "stream",
     "text": [
      "/home1/czhang/Neural-Computation\n"
     ]
    }
   ],
   "source": [
    "import os\n",
    "print(os.getcwd())"
   ]
  },
  {
   "cell_type": "code",
   "execution_count": 63,
   "metadata": {},
   "outputs": [],
   "source": [
    "import data\n",
    "import stats\n",
    "import train\n",
    "import random"
   ]
  },
  {
   "cell_type": "code",
   "execution_count": 64,
   "metadata": {},
   "outputs": [],
   "source": [
    "global_big_pool = data.create_mixed_clause_pool_random_disjoint(\n",
    "    global_input_dim=16,\n",
    "    pool_size=256,\n",
    "    features_per_and=2,\n",
    "    seed=0,\n",
    ")"
   ]
  },
  {
   "cell_type": "code",
   "execution_count": 65,
   "metadata": {},
   "outputs": [
    {
     "data": {
      "text/plain": [
       "[[(10, False), (14, False)],\n",
       " [(1, False), (5, False)],\n",
       " [(2, False), (9, False)],\n",
       " [(3, False), (11, False)],\n",
       " [(7, False), (13, False)],\n",
       " [(4, False), (8, False)],\n",
       " [(0, False), (6, False)],\n",
       " [(12, False), (15, False)],\n",
       " [(2, False), (9, False)],\n",
       " [(3, False), (9, False)]]"
      ]
     },
     "execution_count": 65,
     "metadata": {},
     "output_type": "execute_result"
    }
   ],
   "source": [
    "global_big_pool[:10]"
   ]
  },
  {
   "cell_type": "code",
   "execution_count": 66,
   "metadata": {},
   "outputs": [],
   "source": [
    "cset = random.sample(global_big_pool, 4)"
   ]
  },
  {
   "cell_type": "code",
   "execution_count": 67,
   "metadata": {},
   "outputs": [
    {
     "data": {
      "text/plain": [
       "[[(2, False), (10, False)],\n",
       " [(8, False), (14, False)],\n",
       " [(10, False), (14, False)],\n",
       " [(5, False), (11, False)]]"
      ]
     },
     "execution_count": 67,
     "metadata": {},
     "output_type": "execute_result"
    }
   ],
   "source": [
    "# formulat\n",
    "cset"
   ]
  },
  {
   "cell_type": "code",
   "execution_count": 68,
   "metadata": {},
   "outputs": [],
   "source": [
    "dset = data.generate_dataset(\n",
    "    cset=cset,\n",
    "    train_size=10000,\n",
    "    test_size=1000,\n",
    "    min_true_vars=2,\n",
    "    max_true_vars=5,\n",
    "    batch_size=64,\n",
    ")"
   ]
  },
  {
   "cell_type": "code",
   "execution_count": 69,
   "metadata": {},
   "outputs": [],
   "source": [
    "train_loader, test_loader = dset"
   ]
  },
  {
   "cell_type": "code",
   "execution_count": 70,
   "metadata": {},
   "outputs": [],
   "source": [
    "x, y = next(iter(train_loader))"
   ]
  },
  {
   "cell_type": "code",
   "execution_count": 71,
   "metadata": {},
   "outputs": [
    {
     "data": {
      "text/plain": [
       "torch.Size([64, 32])"
      ]
     },
     "execution_count": 71,
     "metadata": {},
     "output_type": "execute_result"
    }
   ],
   "source": [
    "x.shape"
   ]
  },
  {
   "cell_type": "code",
   "execution_count": 72,
   "metadata": {},
   "outputs": [
    {
     "data": {
      "text/plain": [
       "torch.Size([64])"
      ]
     },
     "execution_count": 72,
     "metadata": {},
     "output_type": "execute_result"
    }
   ],
   "source": [
    "y.shape"
   ]
  },
  {
   "cell_type": "code",
   "execution_count": 73,
   "metadata": {},
   "outputs": [],
   "source": [
    "aggregator_steps = [25, 50, 75, 100, 125, 150]"
   ]
  },
  {
   "cell_type": "code",
   "execution_count": 74,
   "metadata": {},
   "outputs": [],
   "source": [
    "plot_steps = aggregator_steps"
   ]
  },
  {
   "cell_type": "code",
   "execution_count": null,
   "metadata": {},
   "outputs": [
    {
     "name": "stdout",
     "output_type": "stream",
     "text": [
      "testrun: epoch=0/5, trainErr=0.6925, testErr=0.4920, kP+=4, kP-=3\n",
      "testrun: epoch=25/5, trainErr=0.2145, testErr=0.0470, kP+=18, kP-=0\n",
      "testrun: epoch=50/5, trainErr=0.0659, testErr=0.0090, kP+=19, kP-=0\n",
      "testrun: epoch=75/5, trainErr=0.0305, testErr=0.0020, kP+=18, kP-=1\n"
     ]
    }
   ],
   "source": [
    "train.run_single_model(\n",
    "    run_i=0,\n",
    "    aggregator_steps=aggregator_steps,\n",
    "    plot_steps=plot_steps,\n",
    "    j_size=16,\n",
    "    num_features_per_clause=2,\n",
    "    train_loader=train_loader,\n",
    "    test_loader=test_loader,\n",
    "    run_name=\"testrun\",\n",
    "    base_dir=\".\",\n",
    "    l2_reg_factor=0.0,\n",
    "    l1_reg_factor=1e-3,\n",
    "    seed_offset=0,\n",
    "    cset=cset,\n",
    ")"
   ]
  }
 ],
 "metadata": {
  "kernelspec": {
   "display_name": "Python 3",
   "language": "python",
   "name": "python3"
  },
  "language_info": {
   "codemirror_mode": {
    "name": "ipython",
    "version": 3
   },
   "file_extension": ".py",
   "mimetype": "text/x-python",
   "name": "python",
   "nbconvert_exporter": "python",
   "pygments_lexer": "ipython3",
   "version": "3.11.11"
  }
 },
 "nbformat": 4,
 "nbformat_minor": 2
}
